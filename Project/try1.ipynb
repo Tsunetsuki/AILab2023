{
 "cells": [
  {
   "cell_type": "markdown",
   "metadata": {},
   "source": [
    "# Competition: NBME - Score Clinical Patient Notes\n",
    "## Intro\n",
    "https://www.kaggle.com/c/nbme-score-clinical-patient-notes\n",
    "\n",
    "Task: \n",
    "\"[...] develop an automated method to map clinical concepts from an exam rubric (e.g., “diminished appetite”) to various ways in which these concepts are expressed in clinical patient notes written by medical students (e.g., “eating less,” “clothes fit looser”). \"\n",
    "\n",
    "If possible evaluate by a micro-averages F1-score like in the original competition\n",
    "\n",
    "\"For each instance there is a collection of ground-truth spans and a collection of predicted spans. The spans we delimit with a semicolon, like: 0 3; 5 9.\""
   ]
  },
  {
   "cell_type": "markdown",
   "metadata": {},
   "source": [
    "## Useful notebooks\n",
    "https://www.kaggle.com/code/leemop/version-4-simply-understand-competition-itself\n",
    "https://www.kaggle.com/code/drcapa/nbme-starter\n",
    "\n",
    "relatively simple and fast:\n",
    "https://www.kaggle.com/code/yasufuminakama/nbme-deberta-base-baseline-inference\n",
    "https://www.kaggle.com/code/hengzheng/nbme-bert-for-beginners\n",
    "\n",
    "well commented:\n",
    "https://www.kaggle.com/code/nbroad/qa-ner-hybrid-train-nbme/notebook\n",
    "\n",
    "winner:\n",
    "https://www.kaggle.com/code/currypurin/nbme-final-submit-currypurin/notebook\n",
    "\n",
    "High scoring solutions are mostly based on the Microsoft DeBERTa model: https://github.com/microsoft/DeBERTa\n",
    "An ensemble/combination of models is used to create additional pseudo-labels"
   ]
  },
  {
   "cell_type": "code",
   "execution_count": null,
   "metadata": {},
   "outputs": [],
   "source": []
  },
  {
   "cell_type": "code",
   "execution_count": null,
   "metadata": {},
   "outputs": [],
   "source": []
  }
 ],
 "metadata": {
  "language_info": {
   "name": "python"
  }
 },
 "nbformat": 4,
 "nbformat_minor": 2
}

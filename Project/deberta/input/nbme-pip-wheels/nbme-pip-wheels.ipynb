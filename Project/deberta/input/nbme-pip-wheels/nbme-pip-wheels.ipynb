{
 "cells": [
  {
   "cell_type": "code",
   "execution_count": 1,
   "id": "ad169a90",
   "metadata": {
    "_cell_guid": "b1076dfc-b9ad-4769-8c92-a6c4dae69d19",
    "_uuid": "8f2839f25d086af736a60e9eeb907d3b93b6e0e5",
    "execution": {
     "iopub.execute_input": "2022-02-15T02:58:52.166038Z",
     "iopub.status.busy": "2022-02-15T02:58:52.164849Z",
     "iopub.status.idle": "2022-02-15T02:59:02.543262Z",
     "shell.execute_reply": "2022-02-15T02:59:02.542431Z",
     "shell.execute_reply.started": "2022-02-02T15:07:53.001523Z"
    },
    "papermill": {
     "duration": 10.385432,
     "end_time": "2022-02-15T02:59:02.543423",
     "exception": false,
     "start_time": "2022-02-15T02:58:52.157991",
     "status": "completed"
    },
    "tags": []
   },
   "outputs": [
    {
     "name": "stdout",
     "output_type": "stream",
     "text": [
      "Collecting transformers==4.16.2\n",
      "  Using cached transformers-4.16.2-py3-none-any.whl (3.5 MB)\n",
      "Collecting filelock (from transformers==4.16.2)\n",
      "  Using cached filelock-3.13.1-py3-none-any.whl.metadata (2.8 kB)\n",
      "Collecting huggingface-hub<1.0,>=0.1.0 (from transformers==4.16.2)\n",
      "  Using cached huggingface_hub-0.19.4-py3-none-any.whl.metadata (14 kB)\n",
      "Collecting numpy>=1.17 (from transformers==4.16.2)\n",
      "  Using cached numpy-1.26.2-cp311-cp311-macosx_10_9_x86_64.whl.metadata (61 kB)\n",
      "Collecting packaging>=20.0 (from transformers==4.16.2)\n",
      "  Using cached packaging-23.2-py3-none-any.whl.metadata (3.2 kB)\n",
      "Collecting pyyaml>=5.1 (from transformers==4.16.2)\n",
      "  Using cached PyYAML-6.0.1-cp311-cp311-macosx_10_9_x86_64.whl.metadata (2.1 kB)\n",
      "Collecting regex!=2019.12.17 (from transformers==4.16.2)\n",
      "  Using cached regex-2023.10.3-cp311-cp311-macosx_10_9_x86_64.whl.metadata (40 kB)\n",
      "Collecting requests (from transformers==4.16.2)\n",
      "  Using cached requests-2.31.0-py3-none-any.whl.metadata (4.6 kB)\n",
      "Collecting sacremoses (from transformers==4.16.2)\n",
      "  Using cached sacremoses-0.1.1-py3-none-any.whl.metadata (8.3 kB)\n",
      "Collecting tokenizers!=0.11.3,>=0.10.1 (from transformers==4.16.2)\n",
      "  Using cached tokenizers-0.15.0-cp311-cp311-macosx_10_7_x86_64.whl.metadata (6.7 kB)\n",
      "Collecting tqdm>=4.27 (from transformers==4.16.2)\n",
      "  Using cached tqdm-4.66.1-py3-none-any.whl.metadata (57 kB)\n",
      "Collecting fsspec>=2023.5.0 (from huggingface-hub<1.0,>=0.1.0->transformers==4.16.2)\n",
      "  Downloading fsspec-2023.12.1-py3-none-any.whl.metadata (6.8 kB)\n",
      "Collecting typing-extensions>=3.7.4.3 (from huggingface-hub<1.0,>=0.1.0->transformers==4.16.2)\n",
      "  Using cached typing_extensions-4.8.0-py3-none-any.whl.metadata (3.0 kB)\n",
      "Collecting charset-normalizer<4,>=2 (from requests->transformers==4.16.2)\n",
      "  Using cached charset_normalizer-3.3.2-cp311-cp311-macosx_10_9_x86_64.whl.metadata (33 kB)\n",
      "Collecting idna<4,>=2.5 (from requests->transformers==4.16.2)\n",
      "  Downloading idna-3.6-py3-none-any.whl.metadata (9.9 kB)\n",
      "Collecting urllib3<3,>=1.21.1 (from requests->transformers==4.16.2)\n",
      "  Using cached urllib3-2.1.0-py3-none-any.whl.metadata (6.4 kB)\n",
      "Collecting certifi>=2017.4.17 (from requests->transformers==4.16.2)\n",
      "  Using cached certifi-2023.11.17-py3-none-any.whl.metadata (2.2 kB)\n",
      "Collecting click (from sacremoses->transformers==4.16.2)\n",
      "  Using cached click-8.1.7-py3-none-any.whl.metadata (3.0 kB)\n",
      "Collecting joblib (from sacremoses->transformers==4.16.2)\n",
      "  Using cached joblib-1.3.2-py3-none-any.whl.metadata (5.4 kB)\n",
      "Using cached huggingface_hub-0.19.4-py3-none-any.whl (311 kB)\n",
      "Using cached numpy-1.26.2-cp311-cp311-macosx_10_9_x86_64.whl (20.6 MB)\n",
      "Using cached packaging-23.2-py3-none-any.whl (53 kB)\n",
      "Using cached PyYAML-6.0.1-cp311-cp311-macosx_10_9_x86_64.whl (187 kB)\n",
      "Using cached regex-2023.10.3-cp311-cp311-macosx_10_9_x86_64.whl (296 kB)\n",
      "Using cached tokenizers-0.15.0-cp311-cp311-macosx_10_7_x86_64.whl (2.6 MB)\n",
      "Using cached tqdm-4.66.1-py3-none-any.whl (78 kB)\n",
      "Using cached filelock-3.13.1-py3-none-any.whl (11 kB)\n",
      "Using cached requests-2.31.0-py3-none-any.whl (62 kB)\n",
      "Using cached sacremoses-0.1.1-py3-none-any.whl (897 kB)\n",
      "Using cached certifi-2023.11.17-py3-none-any.whl (162 kB)\n",
      "Using cached charset_normalizer-3.3.2-cp311-cp311-macosx_10_9_x86_64.whl (121 kB)\n",
      "Downloading fsspec-2023.12.1-py3-none-any.whl (168 kB)\n",
      "\u001b[2K   \u001b[90m━━━━━━━━━━━━━━━━━━━━━━━━━━━━━━━━━━━━━━━━\u001b[0m \u001b[32m168.9/168.9 kB\u001b[0m \u001b[31m3.7 MB/s\u001b[0m eta \u001b[36m0:00:00\u001b[0ma \u001b[36m0:00:01\u001b[0m\n",
      "\u001b[?25hDownloading idna-3.6-py3-none-any.whl (61 kB)\n",
      "\u001b[2K   \u001b[90m━━━━━━━━━━━━━━━━━━━━━━━━━━━━━━━━━━━━━━━━\u001b[0m \u001b[32m61.6/61.6 kB\u001b[0m \u001b[31m14.1 MB/s\u001b[0m eta \u001b[36m0:00:00\u001b[0m\n",
      "\u001b[?25hUsing cached typing_extensions-4.8.0-py3-none-any.whl (31 kB)\n",
      "Using cached urllib3-2.1.0-py3-none-any.whl (104 kB)\n",
      "Using cached click-8.1.7-py3-none-any.whl (97 kB)\n",
      "Using cached joblib-1.3.2-py3-none-any.whl (302 kB)\n",
      "Saved ./transformers-4.16.2-py3-none-any.whl\n",
      "Saved ./huggingface_hub-0.19.4-py3-none-any.whl\n",
      "Saved ./numpy-1.26.2-cp311-cp311-macosx_10_9_x86_64.whl\n",
      "Saved ./packaging-23.2-py3-none-any.whl\n",
      "Saved ./PyYAML-6.0.1-cp311-cp311-macosx_10_9_x86_64.whl\n",
      "Saved ./regex-2023.10.3-cp311-cp311-macosx_10_9_x86_64.whl\n",
      "Saved ./tokenizers-0.15.0-cp311-cp311-macosx_10_7_x86_64.whl\n",
      "Saved ./tqdm-4.66.1-py3-none-any.whl\n",
      "Saved ./filelock-3.13.1-py3-none-any.whl\n",
      "Saved ./requests-2.31.0-py3-none-any.whl\n",
      "Saved ./sacremoses-0.1.1-py3-none-any.whl\n",
      "Saved ./certifi-2023.11.17-py3-none-any.whl\n",
      "Saved ./charset_normalizer-3.3.2-cp311-cp311-macosx_10_9_x86_64.whl\n",
      "Saved ./fsspec-2023.12.1-py3-none-any.whl\n",
      "Saved ./idna-3.6-py3-none-any.whl\n",
      "Saved ./typing_extensions-4.8.0-py3-none-any.whl\n",
      "Saved ./urllib3-2.1.0-py3-none-any.whl\n",
      "Saved ./click-8.1.7-py3-none-any.whl\n",
      "Saved ./joblib-1.3.2-py3-none-any.whl\n",
      "Successfully downloaded transformers huggingface-hub numpy packaging pyyaml regex tokenizers tqdm filelock requests sacremoses certifi charset-normalizer fsspec idna typing-extensions urllib3 click joblib\n",
      "Collecting tokenizers==0.11.0\n",
      "  Using cached tokenizers-0.11.0.tar.gz (216 kB)\n",
      "  Installing build dependencies ... \u001b[?25ldone\n",
      "\u001b[?25h  Getting requirements to build wheel ... \u001b[?25ldone\n",
      "\u001b[?25h  Preparing metadata (pyproject.toml) ... \u001b[?25ldone\n",
      "\u001b[?25hSaved ./tokenizers-0.11.0.tar.gz\n",
      "Successfully downloaded tokenizers\n"
     ]
    }
   ],
   "source": [
    "!pip download transformers==4.16.2\n",
    "!pip download tokenizers==0.11.0"
   ]
  }
 ],
 "metadata": {
  "kernelspec": {
   "display_name": "Python 3",
   "language": "python",
   "name": "python3"
  },
  "language_info": {
   "codemirror_mode": {
    "name": "ipython",
    "version": 3
   },
   "file_extension": ".py",
   "mimetype": "text/x-python",
   "name": "python",
   "nbconvert_exporter": "python",
   "pygments_lexer": "ipython3",
   "version": "3.11.4"
  },
  "papermill": {
   "default_parameters": {},
   "duration": 22.8439,
   "end_time": "2022-02-15T02:59:03.188495",
   "environment_variables": {},
   "exception": null,
   "input_path": "__notebook__.ipynb",
   "output_path": "__notebook__.ipynb",
   "parameters": {},
   "start_time": "2022-02-15T02:58:40.344595",
   "version": "2.3.3"
  }
 },
 "nbformat": 4,
 "nbformat_minor": 5
}

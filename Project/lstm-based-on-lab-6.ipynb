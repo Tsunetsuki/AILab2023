{
 "cells": [
  {
   "cell_type": "code",
   "execution_count": 1,
   "metadata": {},
   "outputs": [],
   "source": [
    "# CNN\n",
    "import torch.nn.functional as F\n",
    "import torch\n",
    "import torch.nn as nn\n",
    "import torch.optim as optim\n",
    "from torch.optim import lr_scheduler\n",
    "import torch.backends.cudnn as cudnn\n",
    "\n",
    "# others\n",
    "import numpy as np\n",
    "import matplotlib.pyplot as plt\n",
    "import time\n",
    "import os\n",
    "from PIL import Image\n",
    "from tempfile import TemporaryDirectory\n",
    "import time\n",
    "\n",
    "# dataset\n",
    "import torchvision\n",
    "from torchvision import datasets, models, transforms\n",
    "from torchvision.datasets import Flowers102\n",
    "from sklearn.metrics import f1_score\n",
    "\n",
    "\n",
    "# read file \n",
    "import pandas as pd\n",
    "\n",
    "# label\n",
    "from scipy.io import loadmat\n",
    "import json\n",
    "from tqdm import tqdm\n",
    "from itertools import islice\n",
    "from typing import List, Dict, Tuple"
   ]
  },
  {
   "cell_type": "markdown",
   "metadata": {},
   "source": [
    "# Use TweetEval emotion recognition dataset "
   ]
  },
  {
   "cell_type": "code",
   "execution_count": null,
   "metadata": {},
   "outputs": [],
   "source": [
    "# root = '../../Data/tweeteval/datasets/emotion/'\n",
    "# mapping_file = os.path.join(root, 'mapping.txt')\n",
    "# test_labels_file = os.path.join(root, 'test_labels.txt')\n",
    "# test_text_file = os.path.join(root, 'test_text.txt')\n",
    "# train_labels_file = os.path.join(root, 'train_labels.txt')\n",
    "# train_text_file = os.path.join(root, 'train_text.txt')\n",
    "# val_labels_file = os.path.join(root, 'val_labels.txt')\n",
    "# val_text_file = os.path.join(root, 'val_text.txt')"
   ]
  },
  {
   "cell_type": "code",
   "execution_count": null,
   "metadata": {},
   "outputs": [],
   "source": [
    "# mapping_pd = pd.read_csv(mapping_file, sep='\\t', header=None)\n",
    "# test_label_pd = pd.read_csv(test_labels_file, sep='\\t', header=None)\n",
    "# test_dataset = open(test_text_file).read().split('\\n')[:-1] # remove last empty line \n",
    "# train_label_pd = pd.read_csv(train_labels_file, sep='\\t', header=None)\n",
    "# train_dataset = open(train_text_file).read().split('\\n')[:-1] # remove last empty line\n",
    "# val_label_pd = pd.read_csv(val_labels_file, sep='\\t', header=None)\n",
    "# val_dataset = open(val_text_file).read().split('\\n')[:-1] # remove last empty line"
   ]
  },
  {
   "cell_type": "markdown",
   "metadata": {},
   "source": [
    "# Preprocess training data\n",
    "- Given: Notes with ranges and labels\n",
    "- Transform into label + lists of tokens with [does token describe label]"
   ]
  },
  {
   "cell_type": "code",
   "execution_count": null,
   "metadata": {},
   "outputs": [],
   "source": [
    "root = './data/'\n",
    "features_path = os.path.join(root, 'features.csv')\n",
    "patient_notes_path = os.path.join(root, 'patient_notes.csv')\n",
    "sample_submission_path = os.path.join(root, 'sample_submission.csv')\n",
    "test_path = os.path.join(root, 'test.csv')\n",
    "train_path = os.path.join(root, 'train.csv')\n",
    "features = pd.read_csv(features_path, sep=',', header=0)\n",
    "patient_notes = pd.read_csv(patient_notes_path, sep=',', header=0)\n",
    "train_raw = pd.read_csv(train_path, sep=',', header=0)\n"
   ]
  },
  {
   "cell_type": "code",
   "execution_count": null,
   "metadata": {},
   "outputs": [],
   "source": [
    "# unusual_numbers = features[\"feature_num\"].value_counts()[features[\"feature_num\"].value_counts() != 1]\n",
    "# unusual_numbers\n",
    "features[features[\"feature_text\"] == \"Female\"]\n",
    "# features[\"feature_num\"] == "
   ]
  },
  {
   "cell_type": "markdown",
   "metadata": {},
   "source": [
    "## intro \n",
    "- `case_num`: 0~9, each num belongs their groups ... ? \n",
    "- `pn_num`: the id in patient_notes.csv which is 'pn_history', present the note of each case \n",
    "- `feature_num`: the id in features.csv which is 'feature_num', present the feature of each case \n",
    "- `location`: "
   ]
  },
  {
   "cell_type": "code",
   "execution_count": null,
   "metadata": {},
   "outputs": [],
   "source": [
    "import re\n",
    "def df_string2list_of_ints(df_string: str):\n",
    "    df_string = df_string.strip(\"[]\")\n",
    "    if df_string == \"\":\n",
    "        return []\n",
    "    entries = re.split(\",|;\", df_string)\n",
    "    entries = [entry.strip(\" '\") for entry in entries]\n",
    "    ranges = [tuple(int(num_as_str) for num_as_str in entry.split(\" \")) for entry in entries]\n",
    "    return ranges"
   ]
  },
  {
   "cell_type": "code",
   "execution_count": null,
   "metadata": {},
   "outputs": [],
   "source": [
    "train_raw"
   ]
  },
  {
   "cell_type": "code",
   "execution_count": null,
   "metadata": {},
   "outputs": [],
   "source": [
    "data_merged = train_raw.merge(features, on=['feature_num', 'case_num'], how='left')\n",
    "data_merged = data_merged.merge(patient_notes, on=['pn_num', 'case_num'], how='left')\n",
    "data_merged[\"location\"] = data_merged[\"location\"].apply(df_string2list_of_ints)\n",
    "data_merged.head()"
   ]
  },
  {
   "cell_type": "code",
   "execution_count": null,
   "metadata": {},
   "outputs": [],
   "source": [
    "train = data_merged[[\"feature_text\", \"pn_history\", \"location\", ]]\n",
    "train.head()"
   ]
  },
  {
   "cell_type": "code",
   "execution_count": null,
   "metadata": {},
   "outputs": [],
   "source": [
    "# filter training data with no location\n",
    "train = train[train[\"location\"].apply(lambda row: len(row) != 0)]"
   ]
  },
  {
   "cell_type": "code",
   "execution_count": null,
   "metadata": {},
   "outputs": [],
   "source": [
    "print(f'Size of dataset= {len(train)}')"
   ]
  },
  {
   "cell_type": "markdown",
   "metadata": {},
   "source": [
    "## Tokenization\n",
    "- Use spaCy to split the notes into words.\n",
    "\n",
    "Before start using spaCy\n",
    "```\n",
    "conda install -c conda-forge spacy\n",
    "python -m spacy download en_core_web_sm\n",
    "```"
   ]
  },
  {
   "cell_type": "code",
   "execution_count": null,
   "metadata": {},
   "outputs": [],
   "source": [
    "from typing import Iterable\n",
    "# from pytorch_pretrained_bert import BertTokenizer\n",
    "\n",
    "# tokenizer = BertTokenizer.from_pretrained('bert-base-uncased')\n"
   ]
  },
  {
   "cell_type": "code",
   "execution_count": null,
   "metadata": {},
   "outputs": [],
   "source": [
    "from transformers import BertTokenizerFast\n",
    "tokenizer = BertTokenizerFast.from_pretrained('bert-base-uncased')\n",
    "# tokenizer.encode_plus(\"hello i am Drunk\", return_offsets_mapping=True, add_special_tokens=True)"
   ]
  },
  {
   "cell_type": "code",
   "execution_count": null,
   "metadata": {},
   "outputs": [],
   "source": [
    "from os.path import join as pathjoin\n",
    "import pickle\n",
    "cache_dir = \"cache\""
   ]
  },
  {
   "cell_type": "code",
   "execution_count": null,
   "metadata": {},
   "outputs": [],
   "source": [
    "tokenizer.encode_plus(\"hello i am Drunk\", return_offsets_mapping=True, add_special_tokens=True)"
   ]
  },
  {
   "cell_type": "code",
   "execution_count": null,
   "metadata": {},
   "outputs": [],
   "source": [
    "from pytorch_pretrained_bert.modeling import BertModel\n",
    "BERT_FP = ('bert-base-uncased')"
   ]
  },
  {
   "cell_type": "code",
   "execution_count": null,
   "metadata": {},
   "outputs": [],
   "source": [
    "def get_bert_embed_matrix():\n",
    "    bert = BertModel.from_pretrained(BERT_FP)\n",
    "    bert_embeddings = list(bert.children())[0]\n",
    "    bert_word_embeddings = list(bert_embeddings.children())[0]\n",
    "    mat = bert_word_embeddings.weight.data.numpy()\n",
    "    return mat"
   ]
  },
  {
   "cell_type": "code",
   "execution_count": null,
   "metadata": {},
   "outputs": [],
   "source": [
    "embedding_matrix = get_bert_embed_matrix()"
   ]
  },
  {
   "cell_type": "code",
   "execution_count": null,
   "metadata": {},
   "outputs": [],
   "source": [
    "embedding_matrix.shape"
   ]
  },
  {
   "cell_type": "code",
   "execution_count": null,
   "metadata": {},
   "outputs": [],
   "source": [
    "from functools import cache, lru_cache\n",
    "\n",
    "def embed_seq(s: Iterable[int]):\n",
    "    return np.array([onehot_word(word_id) @ embedding_matrix for word_id in s])\n",
    "\n",
    "@lru_cache(maxsize=10000)\n",
    "def embed_word(word_id: int):\n",
    "    return onehot_word(word_id) @ embedding_matrix\n",
    "\n",
    "def onehot_word(a: int):\n",
    "    oh = np.zeros(30522, dtype=int)\n",
    "    oh[a] = 1\n",
    "    return oh"
   ]
  },
  {
   "cell_type": "code",
   "execution_count": null,
   "metadata": {},
   "outputs": [],
   "source": [
    "from typing import Dict, List\n",
    "\n",
    "cache_file = pathjoin(cache_dir, \"tokenized_pn_histories.pkl\")\n",
    "if os.path.isfile(cache_file):\n",
    "    with open(cache_file, \"rb\") as f:\n",
    "        tokenized_pn_histories = pickle.load(f)\n",
    "    print(\"Tokenized patient histories loaded from cache.\")\n",
    "else:\n",
    "    print(\"Found no cached tokenized patient histories. Tokenizing...\")\n",
    "    tokenized_pn_histories: Dict[str, List[Dict]] = {}\n",
    "    for pn_history in tqdm(train[\"pn_history\"]):\n",
    "        indexed_words = []\n",
    "        if pn_history in tokenized_pn_histories:\n",
    "            continue\n",
    "\n",
    "        tokenized = tokenizer.encode_plus(pn_history, return_offsets_mapping=True, add_special_tokens=True)\n",
    "\n",
    "        for word, offset_mapping in zip(tokenized[\"input_ids\"], tokenized[\"offset_mapping\"]):\n",
    "            embedded_token = embed_word(word)\n",
    "\n",
    "            indexed_words.append({\n",
    "                \"word_id\": word,\n",
    "                \"embedded\": embedded_token,\n",
    "                \"range\": offset_mapping\n",
    "            })\n",
    "                    \n",
    "        tokenized_pn_histories[pn_history] = indexed_words\n",
    "    with open(cache_file, \"wb\") as f:\n",
    "        pickle.dump(tokenized_pn_histories, f)\n"
   ]
  },
  {
   "cell_type": "markdown",
   "metadata": {},
   "source": [
    "Data structure:\n",
    "tokenized_pn_histories\n",
    "hist_id -> [tokens]\n",
    "token -> ['word_id', 'embedded', 'range']\n"
   ]
  },
  {
   "cell_type": "code",
   "execution_count": null,
   "metadata": {},
   "outputs": [],
   "source": [
    "# list(tokenized_pn_histories.values())[0][0].keys()\n",
    "list(tokenized_pn_histories.values())[0][1]"
   ]
  },
  {
   "cell_type": "code",
   "execution_count": null,
   "metadata": {},
   "outputs": [],
   "source": [
    "from typing import Dict, List\n",
    "\n",
    "cache_file = pathjoin(cache_dir, \"tokenized_features.pkl\")\n",
    "if os.path.isfile(cache_file):\n",
    "    with open(cache_file, \"rb\") as f:\n",
    "        tokenized_features = pickle.load(f)\n",
    "    print(\"Tokenized features loaded from cache.\")\n",
    "else:\n",
    "    print(\"Found no cached tokenized features. Tokenizing...\")\n",
    "    tokenized_features: Dict[str, List[str]] = {}\n",
    "    for feature_text in tqdm(train[\"feature_text\"]):\n",
    "        indexed_words = []\n",
    "        if feature_text in tokenized_features:\n",
    "            continue\n",
    "\n",
    "        tokenized = tokenizer.encode_plus(feature_text, add_special_tokens=True)\n",
    "\n",
    "        for word in tokenized[\"input_ids\"]:\n",
    "            embedded_token = embed_word(word)\n",
    "\n",
    "            indexed_words.append({\n",
    "                \"word_id\": word,\n",
    "                \"embedded\": embedded_token,\n",
    "            })\n",
    "                \n",
    "        tokenized_features[feature_text] = indexed_words\n",
    "    with open(cache_file, \"wb\") as f:\n",
    "        pickle.dump(tokenized_features, f)\n"
   ]
  },
  {
   "cell_type": "code",
   "execution_count": null,
   "metadata": {},
   "outputs": [],
   "source": [
    "list(tokenized_features.values())[0][1]"
   ]
  },
  {
   "cell_type": "markdown",
   "metadata": {},
   "source": [
    "- Follow the example described here. Use the same architecture, but:\n",
    "  - only use the last output of the LSTM in the loss function\n",
    "  - use an embedding dim of 128\n",
    "  - use a hidden dim of 256.  "
   ]
  },
  {
   "cell_type": "markdown",
   "metadata": {},
   "source": [
    "## Get feature-relevancy of tokens via char ranges"
   ]
  },
  {
   "cell_type": "code",
   "execution_count": null,
   "metadata": {},
   "outputs": [],
   "source": [
    "train_data_preprocessed = dict()\n",
    "for i, (feature_text, pn_history, location) in tqdm(train.iterrows()):\n",
    "    tokenized_history = tokenized_pn_histories[pn_history]\n",
    "    tokens_with_scores = []\n",
    "    for token in tokenized_history:\n",
    "        percentages = []\n",
    "        for feature_relevant_range in location:\n",
    "            token_start, token_end = token[\"range\"]\n",
    "            range_start, range_end = feature_relevant_range[0], feature_relevant_range[1]\n",
    "            \n",
    "            percentage_of_token_in_range = max(min(token_end, range_end)+1 - max(token_start, range_start), 0) / (token_end+1 - token_start)\n",
    "            percentages.append(percentage_of_token_in_range)\n",
    "            # if percentage_of_token_in_range > 0:\n",
    "            #     print(percentage_of_token_in_range, token, feature_relevant_range)\n",
    "        \n",
    "\n",
    "        tokens_with_scores.append({\"token\": token,\n",
    "                                   \"score\": int(max(percentages) > 0.9)})\n",
    "\n",
    "    train_data_preprocessed[i] = {\n",
    "                                    \"pn_history_tokens\": [ts[\"token\"] for ts in tokens_with_scores],\n",
    "                                    \"scores\": torch.tensor([ts[\"score\"] for ts in tokens_with_scores]),\n",
    "                                    \"feature_tokens\": tokenized_features[feature_text],\n",
    "                                    \"locations\": location\n",
    "                                   }\n",
    "        "
   ]
  },
  {
   "cell_type": "code",
   "execution_count": null,
   "metadata": {},
   "outputs": [],
   "source": [
    "num_no_positives = sum([1 for dp in train_data_preprocessed.values() if sum(dp[\"scores\"]) == 0])\n",
    "print(f\"filtering {num_no_positives} out of {len(train_data_preprocessed)} datapoints because they don't contain any positive scores.\")\n",
    "train_data_preprocessed = {key: dp for key, dp in train_data_preprocessed.items() if sum(dp[\"scores\"]) != 0}"
   ]
  },
  {
   "cell_type": "markdown",
   "metadata": {},
   "source": [
    "# Structure of the Model\n",
    "Layers in LSTM Model:\n",
    "1. embed feature tokens\n",
    "2. lstm feature -> constant size vector\n",
    "\n",
    "3. pass to 2nd lstm\n",
    "\t"
   ]
  },
  {
   "cell_type": "code",
   "execution_count": null,
   "metadata": {},
   "outputs": [],
   "source": [
    "EMBEDDING_DIM = embedding_matrix.shape[1]\n",
    "HIDDEN_DIM = 256"
   ]
  },
  {
   "cell_type": "code",
   "execution_count": null,
   "metadata": {},
   "outputs": [],
   "source": [
    "class LSTMTokenScorer(nn.Module):\n",
    "    def __init__(self, embedding_dim, hidden_dim, dropout=0.0):\n",
    "        super(LSTMTokenScorer, self).__init__()\n",
    "\n",
    "        self.pn_history_hidden_dim = hidden_dim\n",
    "\n",
    "        # self.bert_embedding = nn.Embedding.from_pretrained(torch.tensor(embedding_matrix))\n",
    "\n",
    "        self.feature_lstm = nn.LSTM(embedding_dim, embedding_dim, bidirectional=False, dropout=dropout) # the feature is now one tensor of size [embedding_dim].\n",
    "\n",
    "        self.total_lstm = nn.LSTM(embedding_dim * 2, self.pn_history_hidden_dim, bidirectional=False, dropout=dropout)\n",
    "        \n",
    "        self.hidden2score = nn.Linear(hidden_dim, 1)\n",
    "        self.sigmoid = nn.Sigmoid()\n",
    "\n",
    "\n",
    "    def forward(self, pn_history, feature):\n",
    "        # feature_embeds = self.bert_embedding(feature)\n",
    "        feature_lstm_out, _ = self.feature_lstm(feature.view(len(feature), 1, -1)) # the feature is now one tensor of size [embedding_dim].\n",
    "        feature_reduced = torch.squeeze(feature_lstm_out[-1]) #.view(1, -1)\n",
    "        feature_multiplied = feature_reduced.repeat((len(pn_history), 1)) # duplicate feature vector to be same size as embedded pn_history vector.\n",
    "\n",
    "        # pn_history_embeds = self.bert_embedding(pn_history)\n",
    "        pn_history_and_features = torch.concat((feature_multiplied, pn_history), dim=1)\n",
    "\n",
    "        pn_history_reduced, _ = self.total_lstm(pn_history_and_features)\n",
    "        pred_score_raw = torch.squeeze(self.hidden2score(pn_history_reduced))\n",
    "        pred_score = self.sigmoid(pred_score_raw)\n",
    "        return pred_score"
   ]
  },
  {
   "cell_type": "code",
   "execution_count": null,
   "metadata": {},
   "outputs": [],
   "source": [
    "# all_scores = [d[\"scores\"].numpy() for d in train_data_preprocessed.values()]\n",
    "# avg_neg_div_pos = np.mean([(scores.shape[0] - np.sum(scores)) / np.sum(scores) for scores in all_scores])"
   ]
  },
  {
   "cell_type": "code",
   "execution_count": null,
   "metadata": {},
   "outputs": [],
   "source": [
    "train_data_preprocessed[0].keys()"
   ]
  },
  {
   "cell_type": "code",
   "execution_count": null,
   "metadata": {},
   "outputs": [],
   "source": [
    "# feature_tokens = train_data_preprocessed[0][\"feature_tokens\"]\n",
    "# pn_history_tokens = train_data_preprocessed[0][\"pn_history_tokens\"]\n",
    "\n",
    "# feature_tensor = torch.tensor(np.array([t[\"embedded\"] for t in feature_tokens]), dtype=torch.float)\n",
    "# pn_history_tensor = torch.tensor(np.array([t[\"embedded\"] for t in pn_history_tokens]), dtype=torch.float)\n",
    "\n",
    "# model(pn_history_tensor, feature_tensor)"
   ]
  },
  {
   "cell_type": "code",
   "execution_count": null,
   "metadata": {},
   "outputs": [],
   "source": [
    "# From https://www.kaggle.com/theoviel/evaluation-metric-folds-baseline\n",
    "\n",
    "def micro_f1(preds, truths):\n",
    "    \"\"\"\n",
    "    Micro f1 on binary arrays.\n",
    "\n",
    "    Args:\n",
    "        preds (list of lists of ints): Predictions.\n",
    "        truths (list of lists of ints): Ground truths.\n",
    "\n",
    "    Returns:\n",
    "        float: f1 score.\n",
    "    \"\"\"\n",
    "    # Micro : aggregating over all instances\n",
    "    preds = np.concatenate(preds)\n",
    "    truths = np.concatenate(truths)\n",
    "    return f1_score(truths, preds)\n",
    "\n",
    "\n",
    "def spans_to_binary(spans, length=None):\n",
    "    \"\"\"\n",
    "    Converts spans to a binary array indicating whether each character is in the span.\n",
    "\n",
    "    Args:\n",
    "        spans (list of lists of two ints): Spans.\n",
    "\n",
    "    Returns:\n",
    "        np array [length]: Binarized spans.\n",
    "    \"\"\"\n",
    "    length = np.max(spans) if length is None else length\n",
    "    binary = np.zeros(length)\n",
    "    for start, end in spans:\n",
    "        binary[start:end] = 1\n",
    "    return binary\n",
    "\n",
    "\n",
    "def span_micro_f1(preds: List[List[Tuple[int, int]]], truths: List[List[Tuple[int, int]]]):\n",
    "    \"\"\"\n",
    "    Micro f1 on spans.\n",
    "\n",
    "    Args:\n",
    "        preds (list of lists of two ints): Prediction spans.\n",
    "        truths (list of lists of two ints): Ground truth spans.\n",
    "\n",
    "    Returns:\n",
    "        float: f1 score.\n",
    "    \"\"\"\n",
    "    bin_preds = []\n",
    "    bin_truths = []\n",
    "    for pred, truth in zip(preds, truths):\n",
    "        if not len(pred) and not len(truth):\n",
    "            continue\n",
    "        length = max(np.max(pred) if len(pred) else 0, np.max(truth) if len(truth) else 0)\n",
    "        bin_preds.append(spans_to_binary(pred, length))\n",
    "        bin_truths.append(spans_to_binary(truth, length))\n",
    "    return micro_f1(bin_preds, bin_truths)\n"
   ]
  },
  {
   "cell_type": "code",
   "execution_count": null,
   "metadata": {},
   "outputs": [],
   "source": [
    "span_micro_f1([[(1,3)]], [[(1,3)]])"
   ]
  },
  {
   "cell_type": "code",
   "execution_count": null,
   "metadata": {},
   "outputs": [],
   "source": [
    "def scored_ranges2spans(rnges: Tuple[int, int], scores: int) -> List[Tuple[int, int]]:\n",
    "    thresh = 0.9\n",
    "    spans: List[Tuple[int, int]] = []\n",
    "    active_span_start = None\n",
    "    active_span_end = None\n",
    "    for rng, score in zip(rnges, scores):\n",
    "        if active_span_start is None:\n",
    "            if score > thresh:\n",
    "                active_span_start = rng[0]\n",
    "                active_span_end = rng[1]\n",
    "        else: # prev. words are already part of span\n",
    "            if score > thresh:\n",
    "                active_span_end = rng[1]\n",
    "            else:\n",
    "                spans.append((active_span_start, active_span_end))\n",
    "                active_span_start = None\n",
    "                active_span_end = None\n",
    "    if active_span_start is not None:\n",
    "        spans.append((active_span_start, active_span_end))\n",
    "    return spans\n",
    "        "
   ]
  },
  {
   "cell_type": "code",
   "execution_count": null,
   "metadata": {},
   "outputs": [],
   "source": [
    "3172 in train_data_preprocessed.keys()"
   ]
  },
  {
   "cell_type": "code",
   "execution_count": null,
   "metadata": {},
   "outputs": [],
   "source": [
    "import random\n",
    "logfile_name = \"training_log.txt\"\n",
    "from sklearn.metrics import f1_score\n",
    "\n",
    "def log(logtext: str = \"\") -> None:\n",
    "    print(logtext)\n",
    "    with open(logfile_name, \"a\", encoding=\"utf8\") as f:\n",
    "        f.write(str(logtext) + \"\\n\")\n",
    "    \n",
    "\n",
    "def train_model(model: LSTMTokenScorer, criterion, optimizer, scheduler, num_epochs=1):\n",
    "    since = time.time()\n",
    "    with TemporaryDirectory() as tempdir:\n",
    "        best_model_params_path = os.path.join(tempdir, 'best_model_params.pt')\n",
    "\n",
    "        torch.save(model.state_dict(), best_model_params_path)\n",
    "        best_acc = 0.0\n",
    "        best_loss = 9999999999999\n",
    "\n",
    "        losses = []\n",
    "        f1s = []\n",
    "        for epoch in range(num_epochs):\n",
    "            log(f'Epoch {epoch}/{num_epochs - 1}')\n",
    "            log('-' * 10)\n",
    "\n",
    "            # Each epoch has a training and validation phase\n",
    "            for phase in ['train']: #, 'test'\n",
    "                if phase == 'train':\n",
    "                    model.train()\n",
    "                else: \n",
    "                    model.eval()\n",
    "                \n",
    "                running_loss = 0.0\n",
    "                running_loss_average = 0.0\n",
    "                running_f1_total = 0.0\n",
    "                running_f1_average = 0.0\n",
    "                num_non_zero_outputs_in_epoch = 0.0\n",
    "\n",
    "                # batch = random.choices(list(train_data_preprocessed.values()), k=64)\n",
    "                data_ids = list(train_data_preprocessed.keys())\n",
    "                random.shuffle(data_ids)\n",
    "\n",
    "                # Iterate over data.\n",
    "                for i, data_id in enumerate(data_ids):\n",
    "                    datum_preprocessed = train_data_preprocessed[data_id]\n",
    "                    # zero the parameter gradients\n",
    "                    optimizer.zero_grad()\n",
    "\n",
    "                    pn_history_tokens = datum_preprocessed[\"pn_history_tokens\"]\n",
    "                    scores = datum_preprocessed[\"scores\"]\n",
    "                    feature_tokens = datum_preprocessed[\"feature_tokens\"]\n",
    "\n",
    "                    feature_tensor = torch.tensor(np.array([t[\"embedded\"] for t in feature_tokens]), dtype=torch.float)\n",
    "                    pn_history_tensor = torch.tensor(np.array([t[\"embedded\"] for t in pn_history_tokens]), dtype=torch.float)\n",
    "\n",
    "                    # track history only in train\n",
    "                    with torch.set_grad_enabled(phase == 'train'):\n",
    "                        outputs = model(pn_history_tensor, feature_tensor)\n",
    "                        \n",
    "                        num_non_zero_outputs = np.count_nonzero(outputs.detach().numpy().round().astype(int))\n",
    "                        num_non_zero_outputs_in_epoch += num_non_zero_outputs\n",
    "                        \n",
    "                        loss = criterion(outputs.float(), scores.float())\n",
    "\n",
    "                        # backward + optimize only if in training phase\n",
    "                        if phase == 'train':\n",
    "                            loss.backward()\n",
    "                            optimizer.step()\n",
    "\n",
    "                    try:\n",
    "                        f1 = f1_score(scores.int(), outputs.detach().round().int())\n",
    "                    except Exception as e:\n",
    "                        log(\"F1 score calc failed:\")\n",
    "                        log(\"Scores:\")\n",
    "                        log(scores.int())\n",
    "                        log(\"\\nOutputs\")\n",
    "                        log(outputs.detach().round().int())\n",
    "                        log(\"\\n\")\n",
    "                        raise Exception(e)\n",
    "                    # statistics\n",
    "                    running_loss += loss.item()\n",
    "                    running_loss_average = running_loss / (i + 1)\n",
    "                    losses.append(loss.item())\n",
    "                    running_f1_total += f1\n",
    "                    running_f1_average = running_f1_total / (i + 1)\n",
    "                    f1s.append(f1)\n",
    "                    \n",
    "                    if i % 1000 == 0:\n",
    "                        log(f\"Epoch {epoch}, i={i}, avg. loss={running_loss_average}, avg. F1={running_f1_average}, nonzero outputs={num_non_zero_outputs_in_epoch}\")\n",
    "                        # log(\"LSTM output:\")\n",
    "                        # log(outputs)\n",
    "                        # log(\"Truth:\")\n",
    "                        # log(scores)\n",
    "                        log(\"Number of nonzero outputs (in sample prediction):\")\n",
    "                        log(num_non_zero_outputs)\n",
    "\n",
    "                if phase == 'train':\n",
    "                    scheduler.step()\n",
    "\n",
    "                epoch_loss = running_loss # / dataset_sizes[phase]\n",
    "                epoch_f1 = running_f1_average # / dataset_sizes[phase]\n",
    "                log(f'{phase} Loss: {epoch_loss:.4f} F1: {epoch_f1:.4f} Time elapsed: {round((time.time() - since))} sec.')\n",
    "                \n",
    "                # deep copy the model\n",
    "                if phase == 'test' and epoch_loss < best_loss: #epoch_acc > best_acc:\n",
    "                    best_acc = epoch_f1\n",
    "                    best_loss = epoch_loss\n",
    "                    torch.save(model.state_dict(), best_model_params_path)\n",
    "\n",
    "            log()\n",
    "\n",
    "        time_elapsed = time.time() - since\n",
    "        log(f'Training complete in {time_elapsed // 60:.0f}m {time_elapsed % 60:.0f}s')\n",
    "        log(f'Best val Acc: {best_acc:4f}')\n",
    "\n",
    "        # load best model weights\n",
    "        model.load_state_dict(torch.load(best_model_params_path))\n",
    "    return model, losses, f1s\n"
   ]
  },
  {
   "cell_type": "code",
   "execution_count": null,
   "metadata": {},
   "outputs": [],
   "source": [
    "data_ids = list(train_data_preprocessed.keys())\n",
    "neg_values = 0.0\n",
    "pos_values = 0.0\n",
    "for i, data_id in tqdm(enumerate(data_ids)):\n",
    "    datum_preprocessed = train_data_preprocessed[data_id]\n",
    "\n",
    "    pn_history_tokens = datum_preprocessed[\"pn_history_tokens\"]\n",
    "    scores = datum_preprocessed[\"scores\"]\n",
    "    pos_values += np.count_nonzero(scores.numpy().round().astype(int))\n",
    "    neg_values += (scores.shape[0] - np.count_nonzero(scores.numpy().round().astype(int)))\n",
    "\n",
    "neg_pos_ratio = neg_values / pos_values\n",
    "neg_pos_ratio"
   ]
  },
  {
   "cell_type": "code",
   "execution_count": null,
   "metadata": {},
   "outputs": [],
   "source": [
    "from itertools import product\n",
    "\n",
    "open(logfile_name, \"w\", encoding=\"utf8\") # clear logs\n",
    "\n",
    "for lr in [0.001]:\n",
    "    # make model with vocab sizes, including placeholder indices\n",
    "    model = LSTMTokenScorer(EMBEDDING_DIM, HIDDEN_DIM)\n",
    "    # loss_function = nn.BCELoss()\n",
    "    pos_weight = torch.full((1,), neg_pos_ratio)\n",
    "    loss_function = nn.BCEWithLogitsLoss(pos_weight=pos_weight)#make positive class more valuable\n",
    "\n",
    "    optimizer = optim.SGD(model.parameters(), lr=lr, momentum=0.9)\n",
    "    exp_lr_scheduler = lr_scheduler.StepLR(optimizer, step_size=7, gamma=0.1)\n",
    "    \n",
    "    log(f\"Starting model training for lr={lr}...\")\n",
    "    model, losses, f1s = train_model(model, loss_function, optimizer, exp_lr_scheduler, num_epochs=10)"
   ]
  }
 ],
 "metadata": {
  "kernelspec": {
   "display_name": "Python 3",
   "language": "python",
   "name": "python3"
  },
  "language_info": {
   "codemirror_mode": {
    "name": "ipython",
    "version": 3
   },
   "file_extension": ".py",
   "mimetype": "text/x-python",
   "name": "python",
   "nbconvert_exporter": "python",
   "pygments_lexer": "ipython3",
   "version": "3.10.12"
  }
 },
 "nbformat": 4,
 "nbformat_minor": 2
}

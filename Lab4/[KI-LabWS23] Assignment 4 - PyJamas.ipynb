{
  "cells": [
    {
      "cell_type": "markdown",
      "metadata": {
        "id": "Oh1W5LQgjhX5"
      },
      "source": [
        "\n",
        "(ﾉ ﾟｰﾟ)ﾉ\n",
        "Tutorial (probably): https://pytorch.org/tutorials/beginner/transfer_learning_tutorial.html\n",
        "\n",
        "(ﾉ ﾟｰﾟ)ﾉ\n",
        "Models:\n",
        "https://pytorch.org/vision/stable/models.html#general-information-on-pre-trained-weights\n",
        "\n",
        "(ﾉ ﾟｰﾟ)ﾉ\n",
        "Datasets:\n",
        "https://pytorch.org/vision/stable/datasets.html"
      ]
    },
    {
      "cell_type": "code",
      "execution_count": 1,
      "metadata": {
        "colab": {
          "base_uri": "https://localhost:8080/"
        },
        "id": "OArfxcOzjiQk",
        "outputId": "9d72a107-02d5-4c89-e0ae-3464fe8e4950"
      },
      "outputs": [
        {
          "data": {
            "text/plain": [
              "<contextlib.ExitStack at 0x21365a1bbb0>"
            ]
          },
          "execution_count": 1,
          "metadata": {},
          "output_type": "execute_result"
        }
      ],
      "source": [
        "# License: BSD\n",
        "# Author: Sasank Chilamkurthy\n",
        "\n",
        "import torch\n",
        "import torch.nn as nn\n",
        "import torch.optim as optim\n",
        "from torch.optim import lr_scheduler\n",
        "import torch.backends.cudnn as cudnn\n",
        "import numpy as np\n",
        "import torchvision\n",
        "from torchvision import datasets, models, transforms\n",
        "import matplotlib.pyplot as plt\n",
        "import time\n",
        "import os\n",
        "from PIL import Image\n",
        "from tempfile import TemporaryDirectory\n",
        "import random\n",
        "\n",
        "cudnn.benchmark = True\n",
        "plt.ion()   # interactive mode\n",
        "\n",
        "#don't forget: net.to(device)"
      ]
    },
    {
      "cell_type": "markdown",
      "metadata": {
        "id": "gCxuT-NPRUR0"
      },
      "source": [
        "## Hyperparams"
      ]
    },
    {
      "cell_type": "code",
      "execution_count": 2,
      "metadata": {
        "id": "KX5jtbtrRWSN"
      },
      "outputs": [],
      "source": [
        "batch_size=64\n",
        "n_threads = 4\n",
        "\n",
        "# hardware dependent:\n",
        "data_folder = '.data'\n",
        "device = torch.device(\"cuda:0\" if torch.cuda.is_available() else \"cpu\")"
      ]
    },
    {
      "cell_type": "markdown",
      "metadata": {
        "id": "Aq1taUMQK-bC"
      },
      "source": [
        "## Task1 - Dataset\n",
        "Loading set + showing example images and size\n",
        "\n"
      ]
    },
    {
      "cell_type": "markdown",
      "metadata": {
        "id": "-v-1AF7BMCEA"
      },
      "source": [
        "### Load and visualize data"
      ]
    },
    {
      "cell_type": "code",
      "execution_count": 3,
      "metadata": {},
      "outputs": [
        {
          "name": "stdout",
          "output_type": "stream",
          "text": [
            "Files already downloaded and verified\n",
            "Files already downloaded and verified\n"
          ]
        }
      ],
      "source": [
        "# new \n",
        "# Data augmentation and normalization for training\n",
        "# Just normalization for validation\n",
        "data_transforms = {\n",
        "    'train': transforms.Compose([\n",
        "        transforms.RandomResizedCrop(224),\n",
        "        transforms.RandomHorizontalFlip(),\n",
        "        transforms.ToTensor(),\n",
        "        transforms.Normalize([0.485, 0.456, 0.406], [0.229, 0.224, 0.225])\n",
        "    ]),\n",
        "    'val': transforms.Compose([\n",
        "        transforms.Resize(256),\n",
        "        transforms.CenterCrop(224),\n",
        "        transforms.ToTensor(),\n",
        "        transforms.Normalize([0.485, 0.456, 0.406], [0.229, 0.224, 0.225])\n",
        "    ]),\n",
        "}\n",
        "\n",
        "feature_transforms = transforms.Compose([\n",
        "    transforms.ToTensor(),\n",
        "])\n",
        "\n",
        "# Create Omniglot dataset\n",
        "trainset = torchvision.datasets.Omniglot(root=data_folder, background=True,\n",
        "                                        download=True, transform=feature_transforms)\n",
        "\n",
        "testset = torchvision.datasets.Omniglot(root=data_folder, background=False,\n",
        "                                        download=True, transform=feature_transforms)\n",
        "\n",
        "# Create data loaders\n",
        "trainloader = torch.utils.data.DataLoader(trainset, batch_size=batch_size, shuffle=True, num_workers=2)\n",
        "testloader = torch.utils.data.DataLoader(testset, batch_size=batch_size, shuffle=True, num_workers=2)\n",
        "\n",
        "trainsize = len(trainset)\n",
        "testsize = len(testset)\n",
        "\n",
        "#class_names = trainset.classes\n"
      ]
    },
    {
      "cell_type": "code",
      "execution_count": 4,
      "metadata": {},
      "outputs": [
        {
          "data": {
            "text/plain": [
              "torch.Size([64, 1, 105, 105])"
            ]
          },
          "execution_count": 4,
          "metadata": {},
          "output_type": "execute_result"
        }
      ],
      "source": [
        "next(iter(trainloader))[0].shape"
      ]
    },
    {
      "cell_type": "code",
      "execution_count": 5,
      "metadata": {
        "id": "Jz3Wk39ZMF-Z"
      },
      "outputs": [
        {
          "name": "stdout",
          "output_type": "stream",
          "text": [
            "Dataset length:  Dataset Omniglot\n",
            "    Number of datapoints: 19280\n",
            "    Root location: .data\\omniglot-py\n",
            "    StandardTransform\n",
            "Transform: Compose(\n",
            "               ToTensor()\n",
            "           )\n"
          ]
        },
        {
          "data": {
            "image/png": "[encoded data removed]",
            "text/plain": [
              "<Figure size 1500x500 with 5 Axes>"
            ]
          },
          "metadata": {},
          "output_type": "display_data"
        }
      ],
      "source": [
        "print('Dataset length: ', trainset)\n",
        "\n",
        "def imshow(img):\n",
        "    img = img / 2 + 0.5     # unnormalize\n",
        "    npimg = img.numpy()\n",
        "    plt.imshow(np.transpose(npimg, (1, 2, 0)))\n",
        "    plt.show()\n",
        "\n",
        "\n",
        "# get some random training images\n",
        "\n",
        "random_indices = random.sample(range(len(trainset)), 5)\n",
        "random_images = [trainset[i][0] for i in random_indices]\n",
        "\n",
        "# Display random images\n",
        "fig, axs = plt.subplots(1, 5, figsize=(15, 5))\n",
        "for i in range(5):\n",
        "    axs[i].imshow(random_images[i][0], cmap='gray')\n",
        "    axs[i].axis('off')\n",
        "\n",
        "plt.show()"
      ]
    },
    {
      "cell_type": "markdown",
      "metadata": {
        "id": "kKzQe999L3oY"
      },
      "source": [
        "### Finetuning\n",
        "- every layer"
      ]
    },
    {
      "cell_type": "code",
      "execution_count": 6,
      "metadata": {
        "id": "kqCZVguSl4RG"
      },
      "outputs": [],
      "source": [
        "model_ft = models.resnet18(weights='IMAGENET1K_V1')\n",
        "for param in model_ft.parameters():\n",
        "    param.requires_grad = False\n",
        "num_ftrs = model_ft.fc.in_features\n",
        "# Here the size of each output sample is set to the number of character classes in the dataset\n",
        "# Alternatively, it can be generalized to ``nn.Linear(num_ftrs, len(class_names))``.\n",
        "num_characters = len(trainset._characters)\n",
        "model_ft.fc = nn.Linear(num_ftrs, num_characters)\n",
        "\n",
        "model_ft = model_ft.to(device)\n",
        "\n",
        "criterion = nn.CrossEntropyLoss()\n",
        "\n",
        "# Observe that all parameters are being optimized\n",
        "optimizer_ft = optim.SGD(model_ft.fc.parameters(), lr=0.001, momentum=0.9)\n",
        "\n",
        "# Decay LR by a factor of 0.1 every 7 epochs\n",
        "exp_lr_scheduler = lr_scheduler.StepLR(optimizer_ft, step_size=7, gamma=0.1)"
      ]
    },
    {
      "cell_type": "code",
      "execution_count": 7,
      "metadata": {},
      "outputs": [],
      "source": [
        "def train_model(model, criterion, optimizer, scheduler, num_epochs=25):\n",
        "    since = time.time()\n",
        "\n",
        "    # Create a temporary directory to save training checkpoints\n",
        "    with TemporaryDirectory() as tempdir:\n",
        "        best_model_params_path = os.path.join(tempdir, 'best_model_params.pt')\n",
        "\n",
        "        torch.save(model.state_dict(), best_model_params_path)\n",
        "        best_acc = 0.0\n",
        "\n",
        "        for epoch in range(num_epochs):\n",
        "            print(f'Epoch {epoch}/{num_epochs - 1}')\n",
        "            print('-' * 10)\n",
        "\n",
        "            for phase in ['train', 'val']:\n",
        "                if phase == 'train':\n",
        "                    model.train()  # Set model to training mode\n",
        "                else:\n",
        "                    model.eval()   # Set model to evaluate mode\n",
        "\n",
        "                running_loss = 0.0\n",
        "                running_corrects = 0\n",
        "\n",
        "                # Iterate over data.\n",
        "                for inputs, labels in trainloader if phase == \"train\" else testloader:\n",
        "                    inputs = inputs.squeeze()\n",
        "                    inputs = torch.stack((inputs, inputs, inputs), dim=1)\n",
        "                    inputs = inputs.to(device)\n",
        "                    labels = labels.to(device)\n",
        "\n",
        "                    # zero the parameter gradients\n",
        "                    optimizer.zero_grad()\n",
        "\n",
        "                    # forward\n",
        "                    # track history if only in train\n",
        "                    with torch.set_grad_enabled(phase == 'train'):\n",
        "                        outputs = model(inputs)\n",
        "                        _, preds = torch.max(outputs, 1)\n",
        "                        loss = criterion(outputs, labels)\n",
        "\n",
        "                        if phase == 'train':\n",
        "                            loss.backward()\n",
        "                            optimizer.step()\n",
        "\n",
        "                    # statistics\n",
        "                    running_loss += loss.item() * inputs.size(0)\n",
        "                    running_corrects += torch.sum(preds == labels.data)\n",
        "                \n",
        "                if phase == 'train':\n",
        "                    scheduler.step()\n",
        "\n",
        "                used_set = trainset if phase == \"train\" else testset\n",
        "                epoch_loss = running_loss / len(used_set)\n",
        "                epoch_acc = running_corrects.double() / len(used_set)\n",
        "\n",
        "                print(f'{phase} Loss: {epoch_loss:.4f} Acc: {epoch_acc:.4f}')\n",
        "\n",
        "                # deep copy the model\n",
        "                if phase == 'val' and epoch_acc > best_acc:\n",
        "                    best_acc = epoch_acc\n",
        "                    torch.save(model.state_dict(), best_model_params_path)\n",
        "\n",
        "            print()\n",
        "\n",
        "        time_elapsed = time.time() - since\n",
        "        print(f'Training complete in {time_elapsed // 60:.0f}m {time_elapsed % 60:.0f}s')\n",
        "        print(f'Best val Acc: {best_acc:4f}')\n",
        "\n",
        "        # load best model weights\n",
        "        model.load_state_dict(torch.load(best_model_params_path))\n",
        "    return model"
      ]
    },
    {
      "cell_type": "code",
      "execution_count": 8,
      "metadata": {},
      "outputs": [
        {
          "name": "stdout",
          "output_type": "stream",
          "text": [
            "Epoch 0/24\n",
            "----------\n",
            "train Loss: 6.9470 Acc: 0.0027\n",
            "val Loss: 7.0196 Acc: 0.0017\n",
            "\n",
            "Epoch 1/24\n",
            "----------\n",
            "train Loss: 6.5336 Acc: 0.0152\n",
            "val Loss: 7.0036 Acc: 0.0009\n",
            "\n",
            "Epoch 2/24\n",
            "----------\n",
            "train Loss: 6.1811 Acc: 0.0498\n",
            "val Loss: 7.0216 Acc: 0.0008\n",
            "\n",
            "Epoch 3/24\n",
            "----------\n",
            "train Loss: 5.8550 Acc: 0.1001\n",
            "val Loss: 7.0326 Acc: 0.0007\n",
            "\n",
            "Epoch 4/24\n",
            "----------\n",
            "train Loss: 5.5529 Acc: 0.1558\n",
            "val Loss: 7.0598 Acc: 0.0006\n",
            "\n",
            "Epoch 5/24\n",
            "----------\n",
            "train Loss: 5.2644 Acc: 0.2182\n",
            "val Loss: 7.0955 Acc: 0.0008\n",
            "\n",
            "Epoch 6/24\n",
            "----------\n",
            "train Loss: 4.9943 Acc: 0.2732\n",
            "val Loss: 7.1460 Acc: 0.0009\n",
            "\n",
            "Epoch 7/24\n",
            "----------\n",
            "train Loss: 4.8068 Acc: 0.3261\n",
            "val Loss: 7.1262 Acc: 0.0010\n",
            "\n",
            "Epoch 8/24\n",
            "----------\n",
            "train Loss: 4.7814 Acc: 0.3351\n",
            "val Loss: 7.1438 Acc: 0.0009\n",
            "\n",
            "Epoch 9/24\n",
            "----------\n",
            "train Loss: 4.7533 Acc: 0.3374\n",
            "val Loss: 7.1401 Acc: 0.0009\n",
            "\n",
            "Epoch 10/24\n",
            "----------\n",
            "train Loss: 4.7305 Acc: 0.3462\n",
            "val Loss: 7.1429 Acc: 0.0012\n",
            "\n",
            "Epoch 11/24\n",
            "----------\n",
            "train Loss: 4.7057 Acc: 0.3486\n",
            "val Loss: 7.1520 Acc: 0.0009\n",
            "\n",
            "Epoch 12/24\n",
            "----------\n",
            "train Loss: 4.6826 Acc: 0.3549\n",
            "val Loss: 7.1555 Acc: 0.0010\n",
            "\n",
            "Epoch 13/24\n",
            "----------\n",
            "train Loss: 4.6599 Acc: 0.3571\n",
            "val Loss: 7.1719 Acc: 0.0008\n",
            "\n",
            "Epoch 14/24\n",
            "----------\n",
            "train Loss: 4.6433 Acc: 0.3627\n",
            "val Loss: 7.1697 Acc: 0.0009\n",
            "\n",
            "Epoch 15/24\n",
            "----------\n",
            "train Loss: 4.6378 Acc: 0.3652\n",
            "val Loss: 7.1592 Acc: 0.0008\n",
            "\n",
            "Epoch 16/24\n",
            "----------\n",
            "train Loss: 4.6390 Acc: 0.3618\n",
            "val Loss: 7.1637 Acc: 0.0008\n",
            "\n",
            "Epoch 17/24\n",
            "----------\n",
            "train Loss: 4.6361 Acc: 0.3640\n",
            "val Loss: 7.1722 Acc: 0.0009\n",
            "\n",
            "Epoch 18/24\n",
            "----------\n",
            "train Loss: 4.6328 Acc: 0.3630\n",
            "val Loss: 7.1706 Acc: 0.0008\n",
            "\n",
            "Epoch 19/24\n",
            "----------\n",
            "train Loss: 4.6299 Acc: 0.3646\n",
            "val Loss: 7.1556 Acc: 0.0009\n",
            "\n",
            "Epoch 20/24\n",
            "----------\n",
            "train Loss: 4.6267 Acc: 0.3654\n",
            "val Loss: 7.1634 Acc: 0.0008\n",
            "\n",
            "Epoch 21/24\n",
            "----------\n",
            "train Loss: 4.6271 Acc: 0.3662\n",
            "val Loss: 7.1637 Acc: 0.0011\n",
            "\n",
            "Epoch 22/24\n",
            "----------\n",
            "train Loss: 4.6253 Acc: 0.3638\n",
            "val Loss: 7.1579 Acc: 0.0011\n",
            "\n",
            "Epoch 23/24\n",
            "----------\n",
            "train Loss: 4.6265 Acc: 0.3669\n",
            "val Loss: 7.1721 Acc: 0.0008\n",
            "\n",
            "Epoch 24/24\n",
            "----------\n",
            "train Loss: 4.6262 Acc: 0.3691\n",
            "val Loss: 7.1563 Acc: 0.0011\n",
            "\n",
            "Training complete in 11m 28s\n",
            "Best val Acc: 0.001745\n"
          ]
        }
      ],
      "source": [
        "# Training results:\n",
        "# ResNet: 8:40 on GPU, 95% on train data, \n",
        "\n",
        "model_ft = train_model(model_ft, criterion, optimizer_ft, exp_lr_scheduler,\n",
        "                       num_epochs=25)"
      ]
    }
  ],
  "metadata": {
    "accelerator": "GPU",
    "colab": {
      "gpuType": "T4",
      "provenance": [],
      "toc_visible": true
    },
    "kernelspec": {
      "display_name": "Python 3",
      "name": "python3"
    },
    "language_info": {
      "codemirror_mode": {
        "name": "ipython",
        "version": 3
      },
      "file_extension": ".py",
      "mimetype": "text/x-python",
      "name": "python",
      "nbconvert_exporter": "python",
      "pygments_lexer": "ipython3",
      "version": "3.10.12"
    }
  },
  "nbformat": 4,
  "nbformat_minor": 0
}

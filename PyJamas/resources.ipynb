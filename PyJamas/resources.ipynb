{
 "cells": [
  {
   "attachments": {},
   "cell_type": "markdown",
   "metadata": {},
   "source": [
    "# Competition: NBME - Score Clinical Patient Notes\n",
    "## Intro\n",
    "https://www.kaggle.com/c/nbme-score-clinical-patient-notes\n",
    "\n",
    "Task: \n",
    "\"[...] develop an automated method to map clinical concepts from an exam rubric (e.g., “diminished appetite”) to various ways in which these concepts are expressed in clinical patient notes written by medical students (e.g., “eating less,” “clothes fit looser”). \"\n",
    "\n",
    "If possible evaluate by a micro-averages F1-score like in the original competition\n",
    "\n",
    "\"For each instance there is a collection of ground-truth spans and a collection of predicted spans. The spans we delimit with a semicolon, like: 0 3; 5 9.\"\n",
    "\n",
    "Tasks: Question answering, classification, semantic search?"
   ]
  },
  {
   "attachments": {},
   "cell_type": "markdown",
   "metadata": {},
   "source": [
    "## Notebooks\n",
    "### Useful notebooks\n",
    "https://www.kaggle.com/code/leemop/version-4-simply-understand-competition-itself\n",
    "https://www.kaggle.com/code/drcapa/nbme-starter\n",
    "\n",
    "relatively simple and fast:\n",
    "https://www.kaggle.com/code/yasufuminakama/nbme-deberta-base-baseline-inference\n",
    "https://www.kaggle.com/code/hengzheng/nbme-bert-for-beginners\n",
    "\n",
    "transformers for the deberta one:\n",
    "https://www.kaggle.com/code/yasufuminakama/nbme-pip-wheels/notebook\n",
    "\n",
    "well commented:\n",
    "https://www.kaggle.com/code/nbroad/qa-ner-hybrid-train-nbme/notebook\n",
    "\n",
    "Roberta instead of Deberta (Roberta and Deberta are not very compatible without adjustments https://www.kaggle.com/code/theoviel/roberta-strikes-back/notebook):\n",
    "https://www.kaggle.com/code/theoviel/roberta-strikes-back#Data\n",
    "\n",
    "\n",
    "winner:\n",
    "https://www.kaggle.com/code/currypurin/nbme-final-submit-currypurin/notebook\n",
    "\n",
    "High scoring solutions are mostly based on the Microsoft DeBERTa model: https://github.com/microsoft/DeBERTa\n",
    "An ensemble/combination of models is used to create additional pseudo-labels\n",
    "\n",
    "\n",
    "### What is OOF?: https://stackoverflow.com/questions/52396191/what-is-oof-approach-in-machine-learning\n",
    "\n",
    "### Solutions for low resources\n",
    "https://www.kaggle.com/competitions/nbme-score-clinical-patient-notes/discussion/322958\n",
    "\n",
    "### Notes on data preprocessing\n",
    "https://www.kaggle.com/competitions/nbme-score-clinical-patient-notes/discussion/323085\n",
    "\n",
    "## Models\n",
    "\n",
    "### Embeddings\n",
    "https://mccormickml.com/2019/05/14/BERT-word-embeddings-tutorial/\n",
    "\n",
    "Notebook for aforementioned: https://colab.research.google.com/drive/1yFphU6PW9Uo6lmDly_ud9a6c4RCYlwdX#scrollTo=Mq2PKplWfbFv\n",
    "\n",
    "https://www.kaggle.com/code/christofhenkel/bert-embeddings-lstm\n",
    "\n",
    "https://huggingface.co/embedding-data/deberta-sentence-transformer\n",
    "\n"
   ]
  }
 ],
 "metadata": {
  "kernelspec": {
   "display_name": "Python 3",
   "language": "python",
   "name": "python3"
  },
  "language_info": {
   "codemirror_mode": {
    "name": "ipython",
    "version": 3
   },
   "file_extension": ".py",
   "mimetype": "text/x-python",
   "name": "python",
   "nbconvert_exporter": "python",
   "pygments_lexer": "ipython3",
   "version": "3.10.2"
  }
 },
 "nbformat": 4,
 "nbformat_minor": 2
}
